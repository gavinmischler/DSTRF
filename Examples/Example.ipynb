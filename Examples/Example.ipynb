{
 "cells": [
  {
   "cell_type": "markdown",
   "metadata": {},
   "source": [
    "# Setup"
   ]
  },
  {
   "cell_type": "markdown",
   "metadata": {},
   "source": []
  },
  {
   "cell_type": "code",
   "execution_count": 1,
   "metadata": {},
   "outputs": [],
   "source": [
    "import ipypb\n",
    "import logging\n",
    "import warnings\n",
    "import numpy as np\n",
    "import matplotlib.pyplot as plt\n",
    "from hdf5storage import loadmat\n",
    "\n",
    "import torch\n",
    "import torchaudio\n",
    "import pytorch_lightning as pl\n",
    "\n",
    "import dynamic_strf\n",
    "\n",
    "device = torch.device('cuda:0')\n",
    "\n",
    "logging.getLogger().setLevel(logging.CRITICAL)\n",
    "logging.getLogger('pytorch_lightning').setLevel(logging.CRITICAL)\n",
    "warnings.simplefilter('ignore')"
   ]
  },
  {
   "cell_type": "markdown",
   "metadata": {},
   "source": [
    "# Data preparation"
   ]
  },
  {
   "cell_type": "markdown",
   "metadata": {},
   "source": []
  },
  {
   "cell_type": "code",
   "execution_count": null,
   "metadata": {},
   "outputs": [],
   "source": [
    "spect_cfg = dict(\n",
    "    out_sr = 100,\n",
    "    freqbins = 64,\n",
    "    f_max = 11025/2\n",
    ")\n",
    "\n",
    "X = []\n",
    "for i in range(18):\n",
    "    sound, in_sr = torchaudio.load(f'Data/Sounds/stim{i+1}.flac')\n",
    "    spect = dynamic_strf.modeling.SpectrogramParser(in_sr, **spect_cfg)(sound)\n",
    "    X.append(spect)\n",
    "\n",
    "Y = []\n",
    "path_fmt = 'Data/LIJ%s_data_TrainOn1If2Records.mat'\n",
    "for subj_id in ['109', '110', '112', '113', '114', '120']:\n",
    "    Y.append(loadmat(path_fmt % subj_id)['noisy_resp'].squeeze(0))\n",
    "Y = [torch.cat([torch.from_numpy(y[i]) for y in Y], dim=1) for i in range(18)]\n",
    "\n",
    "for i in range(18):\n",
    "    diff = len(X[i]) - len(Y[i])\n",
    "    if diff == 1:\n",
    "        X[i] = X[i][:-1]\n",
    "    elif diff > 1:\n",
    "        raise RuntimeError(f'X and Y have different lengths for stim{i+1}!')\n",
    "    \n",
    "    X[i] = X[i][100:-50].float()\n",
    "    Y[i] = Y[i][100:-50].float()\n",
    "\n",
    "channels = Y[0].shape[1]"
   ]
  },
  {
   "cell_type": "markdown",
   "metadata": {},
   "source": [
    "# Training configuration"
   ]
  },
  {
   "cell_type": "markdown",
   "metadata": {},
   "source": []
  },
  {
   "cell_type": "markdown",
   "metadata": {},
   "source": [
    "## 1. Dictionaries"
   ]
  },
  {
   "cell_type": "markdown",
   "metadata": {},
   "source": []
  },
  {
   "cell_type": "code",
   "execution_count": null,
   "metadata": {},
   "outputs": [],
   "source": [
    "optimizer_cfg = {\n",
    "    \n",
    "}\n",
    "\n",
    "scheduler_cfg = {\n",
    "    \n",
    "}\n",
    "\n",
    "trainer = {\n",
    "    'gpus' = 1,\n",
    "    'precision' = 16,\n",
    "}"
   ]
  },
  {
   "cell_type": "markdown",
   "metadata": {},
   "source": [
    "## 2. Builder functions"
   ]
  },
  {
   "cell_type": "markdown",
   "metadata": {},
   "source": []
  },
  {
   "cell_type": "code",
   "execution_count": null,
   "metadata": {},
   "outputs": [],
   "source": [
    "def optimizer_cfg(params):\n",
    "    return torch.optim.AdamW(\n",
    "        params,\n",
    "        ...\n",
    "    )\n",
    "\n",
    "def scheduler_cfg(optimizer):\n",
    "    return torch.optim.lr_scheduler.ExponentialLR(\n",
    "        optimizer,\n",
    "        ...\n",
    "    )\n",
    "\n",
    "def trainer():\n",
    "    return pl.Trainer(\n",
    "        gpus = 1,\n",
    "        precision = 16,\n",
    "        ...\n",
    "    )"
   ]
  },
  {
   "cell_type": "markdown",
   "metadata": {},
   "source": [
    "# Model definition"
   ]
  },
  {
   "cell_type": "markdown",
   "metadata": {},
   "source": []
  },
  {
   "cell_type": "markdown",
   "metadata": {},
   "source": [
    "## 1. Deep Convolutional"
   ]
  },
  {
   "cell_type": "markdown",
   "metadata": {},
   "source": []
  },
  {
   "cell_type": "code",
   "execution_count": null,
   "metadata": {},
   "outputs": [],
   "source": [
    "def builder():\n",
    "    return dynamic_strf.modeling.DeepEncoder(\n",
    "        input_size=freqbins,\n",
    "        hidden_size=128,\n",
    "        channels=channels,\n",
    "        optimizer=optimizer,\n",
    "        scheduler=scheduler\n",
    "    ).to(device)"
   ]
  },
  {
   "cell_type": "markdown",
   "metadata": {},
   "source": [
    "## 2. Linear"
   ]
  },
  {
   "cell_type": "markdown",
   "metadata": {},
   "source": []
  },
  {
   "cell_type": "code",
   "execution_count": null,
   "metadata": {},
   "outputs": [],
   "source": [
    "def builder():\n",
    "    return dynamic_strf.modeling.LinearEncoder(\n",
    "        input_size=freqbins,\n",
    "        channels=channels,\n",
    "        optimizer=optimizer,\n",
    "        scheduler=scheduler\n",
    "    ).to(device)"
   ]
  },
  {
   "cell_type": "markdown",
   "metadata": {},
   "source": [
    "# Training"
   ]
  },
  {
   "cell_type": "markdown",
   "metadata": {},
   "source": []
  },
  {
   "cell_type": "code",
   "execution_count": null,
   "metadata": {},
   "outputs": [],
   "source": [
    "dataset_cfg = dict(\n",
    "    batch_size = 64,\n",
    "    num_workers = 4,\n",
    ")"
   ]
  },
  {
   "cell_type": "markdown",
   "metadata": {},
   "source": [
    "## 1. Basic"
   ]
  },
  {
   "cell_type": "markdown",
   "metadata": {},
   "source": []
  },
  {
   "cell_type": "code",
   "execution_count": null,
   "metadata": {},
   "outputs": [],
   "source": [
    "dynamic_strf.modeling.fit_multiple(\n",
    "    builder=builder,\n",
    "    data=(x_noisy, y_noisy),\n",
    "    save_dir='output/models-basic',\n",
    "    **train_cfg\n",
    ")"
   ]
  },
  {
   "cell_type": "markdown",
   "metadata": {},
   "source": [
    "## 2. With cross-validation"
   ]
  },
  {
   "cell_type": "markdown",
   "metadata": {},
   "source": []
  },
  {
   "cell_type": "code",
   "execution_count": null,
   "metadata": {},
   "outputs": [],
   "source": [
    "dynamic_strf.modeling.fit_multiple(\n",
    "    builder=builder,\n",
    "    data=(x_noisy, y_noisy),\n",
    "    crossval=True,\n",
    "    save_dir='output/models-cv',\n",
    "    **train_cfg\n",
    ")"
   ]
  },
  {
   "cell_type": "markdown",
   "metadata": {},
   "source": [
    "## 3. With jackknifing"
   ]
  },
  {
   "cell_type": "markdown",
   "metadata": {},
   "source": []
  },
  {
   "cell_type": "code",
   "execution_count": null,
   "metadata": {},
   "outputs": [],
   "source": [
    "dynamic_strf.modeling.fit_multiple(\n",
    "    builder=builder,\n",
    "    data=(x_noisy, y_noisy),\n",
    "    jackknife=True,\n",
    "    save_dir='output/models-jackknife',\n",
    "    **train_cfg\n",
    ")"
   ]
  },
  {
   "cell_type": "markdown",
   "metadata": {},
   "source": [
    "## 4. With cross-validation and jackknifing"
   ]
  },
  {
   "cell_type": "markdown",
   "metadata": {},
   "source": []
  },
  {
   "cell_type": "code",
   "execution_count": null,
   "metadata": {},
   "outputs": [],
   "source": [
    "dynamic_strf.modeling.fit_multiple(\n",
    "    builder=builder,\n",
    "    data=(x_noisy, y_noisy),\n",
    "    crossval=True,\n",
    "    jackknife=True,\n",
    "    save_dir='output/models-jackknife-cv',\n",
    "    **train_cfg\n",
    ")"
   ]
  },
  {
   "cell_type": "markdown",
   "metadata": {},
   "source": [
    "# Evaluation"
   ]
  },
  {
   "cell_type": "markdown",
   "metadata": {},
   "source": []
  },
  {
   "cell_type": "code",
   "execution_count": null,
   "metadata": {},
   "outputs": [],
   "source": [
    "scores = dynamic_strf.modeling.test_multiple(\n",
    "    modle=builder(),\n",
    "    checkpoints='output/5x128-jackknife-cv',\n",
    "    data=(x_noisy, y_noisy),\n",
    "    crossval=True,\n",
    "    jackknife=True,\n",
    "    verbose=1\n",
    ")"
   ]
  },
  {
   "cell_type": "markdown",
   "metadata": {},
   "source": []
  },
  {
   "cell_type": "code",
   "execution_count": null,
   "metadata": {},
   "outputs": [],
   "source": [
    "preds = dynamic_strf.modeling.infer_multiple(\n",
    "    model=builder(),\n",
    "    checkpoints='output/linear-jackknife-cv',\n",
    "    data=x_noisy,\n",
    "    crossval=True,\n",
    "    jackknife_mode='pred',\n",
    "    verbose=1,\n",
    ")"
   ]
  },
  {
   "cell_type": "markdown",
   "metadata": {},
   "source": [
    "# Estimating dSTRFs"
   ]
  },
  {
   "cell_type": "markdown",
   "metadata": {},
   "source": []
  },
  {
   "cell_type": "code",
   "execution_count": null,
   "metadata": {},
   "outputs": [],
   "source": [
    "dynamic_strf.estimate.dSTRF_multiple(\n",
    "    model=builder(),\n",
    "    checkpoints='output/models-jackknife-cv',\n",
    "    data=(x_noisy, y_noisy),\n",
    "    crossval=True,\n",
    "    jackknife=True,\n",
    "    save_dir='output/models-jackknife-cv-dstrf',\n",
    "    chunk_size=100,\n",
    "    verbose=1\n",
    ")"
   ]
  },
  {
   "cell_type": "markdown",
   "metadata": {},
   "source": [
    "# Estimating dSTRF nonlinearities"
   ]
  },
  {
   "cell_type": "markdown",
   "metadata": {},
   "source": []
  },
  {
   "cell_type": "code",
   "execution_count": null,
   "metadata": {},
   "outputs": [],
   "source": [
    "nonlin = dynamic_strf.estimate.nonlinearities(\n",
    "    paths='output/models-jackknife-cv-dstrf',\n",
    "    reduction='mean',\n",
    "    verbose=0\n",
    ")"
   ]
  },
  {
   "cell_type": "markdown",
   "metadata": {},
   "source": [
    "# Visualizing dSTRFs"
   ]
  },
  {
   "cell_type": "markdown",
   "metadata": {},
   "source": []
  },
  {
   "cell_type": "code",
   "execution_count": null,
   "metadata": {},
   "outputs": [],
   "source": []
  },
  {
   "cell_type": "markdown",
   "metadata": {},
   "source": []
  },
  {
   "cell_type": "code",
   "execution_count": null,
   "metadata": {},
   "outputs": [],
   "source": [
    "dynamic_strf.visualize.dSTRF(\n",
    "    'output/5x128-jackknife-cv-dstrf/dSTRF-000.pt',\n",
    "    channels=slice(8, 12),\n",
    "    time_range=slice(1000, 2500),\n",
    "    aspect=2,\n",
    "    output_prefix='mov/trial-1-',\n",
    "    verbose=2\n",
    ")"
   ]
  }
 ],
 "metadata": {
  "kernelspec": {
   "display_name": "Python [conda env:.conda-torch_cuda11]",
   "language": "python",
   "name": "conda-env-.conda-torch_cuda11-py"
  },
  "language_info": {
   "codemirror_mode": {
    "name": "ipython",
    "version": 3
   },
   "file_extension": ".py",
   "mimetype": "text/x-python",
   "name": "python",
   "nbconvert_exporter": "python",
   "pygments_lexer": "ipython3",
   "version": "3.9.6"
  }
 },
 "nbformat": 4,
 "nbformat_minor": 2
}
