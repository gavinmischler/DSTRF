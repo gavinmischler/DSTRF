{
 "cells": [
  {
   "cell_type": "markdown",
   "metadata": {},
   "source": [
    "Colormaps:\n",
    "* PiYG, PRGn, BrBG, Puor, RoGy, RoBu, RoYIBu, RoYIGn, Spectral, coolwarm, bwr, seismic"
   ]
  },
  {
   "cell_type": "code",
   "execution_count": 1,
   "metadata": {},
   "outputs": [],
   "source": [
    "import ipypb\n",
    "import logging\n",
    "import warnings\n",
    "import numpy as np\n",
    "import matplotlib.pyplot as plt\n",
    "from hdf5storage import loadmat\n",
    "\n",
    "import torch\n",
    "import radam\n",
    "import torchaudio\n",
    "import pytorch_lightning as pl\n",
    "\n",
    "import dynamic_strf\n",
    "\n",
    "device = torch.device('cuda:0')\n",
    "\n",
    "logging.getLogger('radam').setLevel(logging.CRITICAL)\n",
    "logging.getLogger('pytorch_lightning').setLevel(logging.CRITICAL)\n",
    "logging.getLogger().setLevel(logging.CRITICAL)\n",
    "warnings.simplefilter('ignore')"
   ]
  },
  {
   "cell_type": "code",
   "execution_count": 18,
   "metadata": {},
   "outputs": [],
   "source": [
    "top_db = 70\n",
    "out_sr = 100\n",
    "freqbins = 64\n",
    "x_noisy = []\n",
    "for i in range(19):\n",
    "    sound, in_sr = torchaudio.load(f'Data/Sounds/stim{i+1}.flac')\n",
    "    spect = dynamic_strf.modeling.SpectrogramParser(\n",
    "        in_sr, out_sr, freqbins, f_max=11025/2, normalize=False\n",
    "    )(sound)\n",
    "    x_noisy.append(spect)\n",
    "\n",
    "y_noisy = []\n",
    "path_fmt = 'Data/LIJ%s_data_TrainOn1If2Records.mat'\n",
    "for subj_id in ['109', '110', '112', '113', '114', '120']:\n",
    "    y_noisy.append(loadmat(path_fmt % subj_id)['noisy_resp'].squeeze(0))\n",
    "y_noisy = [torch.cat([torch.from_numpy(y[i]) for y in y_noisy], dim=1) for i in range(19)]\n",
    "\n",
    "for i in range(19):\n",
    "    diff = len(x_noisy[i]) - len(y_noisy[i])\n",
    "    if diff == 1:\n",
    "        x_noisy[i] = x_noisy[i][:-1]\n",
    "    elif diff > 1:\n",
    "        raise RuntimeError(f'X and Y have different lengths for stim{i+1}!')\n",
    "    \n",
    "    x_noisy[i] = x_noisy[i][100:-50].float()\n",
    "    y_noisy[i] = y_noisy[i][100:-50].float()\n",
    "\n",
    "x_noisy = x_noisy[:-1]\n",
    "y_noisy = y_noisy[:-1]\n",
    "\n",
    "channels = y_noisy[0].shape[1]"
   ]
  },
  {
   "cell_type": "code",
   "execution_count": null,
   "metadata": {
    "scrolled": false
   },
   "outputs": [],
   "source": [
    "def builder():\n",
    "    return dynamic_strf.modeling.DeepEncoder(\n",
    "        input_size=freqbins,\n",
    "        hidden_size=128,\n",
    "        channels=channels\n",
    "    ).to(device)\n",
    "\n",
    "dynamic_strf.modeling.fit_multiple(\n",
    "    builder=builder,\n",
    "    data=(x_noisy, y_noisy),\n",
    "    crossval=True,\n",
    "    jackknife=False,\n",
    "    save_dir='output/5x128-cv',\n",
    "    batch_size=64,\n",
    "    num_workers=4,\n",
    "    gpus=1,\n",
    "    precision=16,\n",
    "    verbose=1\n",
    ")\n",
    "\n",
    "model = builder()\n",
    "\n",
    "dynamic_strf.estimate.dSTRF_multiple(\n",
    "    model=model,\n",
    "    checkpoints='output/5x128-cv',\n",
    "    data=x_noisy,\n",
    "    crossval=True,\n",
    "    jackknife=False,\n",
    "    save_dir='output/5x128-cv-dstrf',\n",
    "    chunk_size=100,\n",
    "    verbose=1\n",
    ")\n",
    "\n",
    "scores = dynamic_strf.modeling.test_multiple(\n",
    "    model=builder(),\n",
    "    checkpoints='output/5x128-cv',\n",
    "    data=(x_noisy, y_noisy),\n",
    "    crossval=True,\n",
    "    jackknife_mode='pred',\n",
    "    verbose=1\n",
    ")\n",
    "\n",
    "nonlin = dynamic_strf.estimate.nonlinearities(\n",
    "    paths='output/5x128-cv-dstrf',\n",
    "    reduction='mean',\n",
    "    verbose=0\n",
    ")"
   ]
  }
 ],
 "metadata": {
  "kernelspec": {
   "display_name": "Python [conda env:.conda-torch_cuda11]",
   "language": "python",
   "name": "conda-env-.conda-torch_cuda11-py"
  },
  "language_info": {
   "codemirror_mode": {
    "name": "ipython",
    "version": 3
   },
   "file_extension": ".py",
   "mimetype": "text/x-python",
   "name": "python",
   "nbconvert_exporter": "python",
   "pygments_lexer": "ipython3",
   "version": "3.9.6"
  }
 },
 "nbformat": 4,
 "nbformat_minor": 2
}
