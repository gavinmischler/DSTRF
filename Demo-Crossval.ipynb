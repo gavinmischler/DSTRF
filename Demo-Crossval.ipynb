{
 "cells": [
  {
   "cell_type": "markdown",
   "metadata": {},
   "source": [
    "Colormaps:\n",
    "* PiYG, PRGn, BrBG, Puor, RoGy, RoBu, RoYIBu, RoYIGn, Spectral, coolwarm, bwr, seismic"
   ]
  },
  {
   "cell_type": "code",
   "execution_count": 1,
   "metadata": {},
   "outputs": [],
   "source": [
    "import ipypb\n",
    "import logging\n",
    "import warnings\n",
    "import numpy as np\n",
    "import matplotlib.pyplot as plt\n",
    "from hdf5storage import loadmat\n",
    "\n",
    "import torch\n",
    "import radam\n",
    "import torchaudio\n",
    "import pytorch_lightning as pl\n",
    "\n",
    "import dynamic_strf\n",
    "\n",
    "device = torch.device('cuda:0')\n",
    "\n",
    "logging.getLogger('radam').setLevel(logging.CRITICAL)\n",
    "logging.getLogger('pytorch_lightning').setLevel(logging.CRITICAL)\n",
    "logging.getLogger().setLevel(logging.CRITICAL)\n",
    "warnings.simplefilter('ignore')"
   ]
  },
  {
   "cell_type": "code",
   "execution_count": 2,
   "metadata": {},
   "outputs": [],
   "source": [
    "top_db = 70\n",
    "out_sr = 100\n",
    "freqbins = 64\n",
    "x_noisy = []\n",
    "for i in range(19):\n",
    "    sound, in_sr = torchaudio.load(f'Data/Sounds/stim{i+1}.flac')\n",
    "    spect = torch.nn.Sequential(\n",
    "        torchaudio.transforms.MelSpectrogram(in_sr, n_fft=1024, hop_length=int(in_sr/out_sr), f_min=20, f_max=11025/2, n_mels=freqbins, power=2.0),\n",
    "        torchaudio.transforms.AmplitudeToDB('power', top_db=top_db),\n",
    "        type(\"Squeeze\", (torch.nn.Module,), dict(forward=lambda self, x: x.squeeze(0).T.float()))()\n",
    "        #type(\"Normalize\", (torch.nn.Module,), dict(forward=lambda self, x: (x - x.max()).squeeze(0).T.float() / top_db + 1))()\n",
    "    )(sound)\n",
    "    x_noisy.append(spect)\n",
    "\n",
    "y_noisy = []\n",
    "path_fmt = 'Data/LIJ%s_data_TrainOn1If2Records.mat'\n",
    "for subj_id in ['109', '110', '112', '113', '114', '120']:\n",
    "    y_noisy.append(loadmat(path_fmt % subj_id)['noisy_resp'].squeeze(0))\n",
    "y_noisy = [torch.cat([torch.from_numpy(y[i]) for y in y_noisy], dim=1) for i in range(19)]\n",
    "\n",
    "for i in range(19):\n",
    "    diff = len(x_noisy[i]) - len(y_noisy[i])\n",
    "    if diff == 1:\n",
    "        x_noisy[i] = x_noisy[i][:-1]\n",
    "    elif diff > 1:\n",
    "        raise RuntimeError(f'X and Y have different lengths for stim{i+1}!')\n",
    "    \n",
    "    x_noisy[i] = x_noisy[i][100:-50].float()\n",
    "    y_noisy[i] = y_noisy[i][100:-50].float()\n",
    "\n",
    "x_noisy = x_noisy[:-1]\n",
    "y_noisy = y_noisy[:-1]\n",
    "\n",
    "channels = y_noisy[0].shape[1]"
   ]
  },
  {
   "cell_type": "code",
   "execution_count": null,
   "metadata": {},
   "outputs": [
    {
     "name": "stdout",
     "output_type": "stream",
     "text": [
      "Directory \"5x128-cv\" already exists.\n",
      "Fitting model for leave out: [0]... Skip.\n",
      "Fitting model for leave out: [1]... Skip.\n",
      "Fitting model for leave out: [2]... Skip.\n",
      "Fitting model for leave out: [3]... Skip.\n",
      "Fitting model for leave out: [4]... Skip.\n",
      "Fitting model for leave out: [5]... Skip.\n",
      "Fitting model for leave out: [6]... Skip.\n",
      "Fitting model for leave out: [7]... Skip.\n",
      "Fitting model for leave out: [8]... Skip.\n",
      "Fitting model for leave out: [9]... Skip.\n",
      "Fitting model for leave out: [10]... Skip.\n",
      "Fitting model for leave out: [11]... Skip.\n",
      "Fitting model for leave out: [12]... Skip.\n",
      "Fitting model for leave out: [13]... Skip.\n",
      "Fitting model for leave out: [14]... Skip.\n",
      "Fitting model for leave out: [15]... Skip.\n",
      "Fitting model for leave out: [16]... Skip.\n",
      "Fitting model for leave out: [17]... Skip.\n",
      "Directory \"5x128-cv-dstrf\" already exists.\n",
      "Found 18 model checkpoints in specified directory.\n",
      "Computing dSTRFs for stimulus 01/18... "
     ]
    },
    {
     "data": {
      "text/html": [
       "<div><span class=\"Text-label\" style=\"display:inline-block; overflow:hidden; white-space:nowrap; text-overflow:ellipsis; min-width:0; max-width:15ex; vertical-align:middle; text-align:right\"></span>\n",
       "<progress style=\"width:60ex\" max=\"61\" value=\"61\" class=\"Progress-main\"/></progress>\n",
       "<span class=\"Progress-label\"><strong>100%</strong></span>\n",
       "<span class=\"Iteration-label\">61/61</span>\n",
       "<span class=\"Time-label\">[29:54<00:14, 29.41s/it]</span></div>"
      ],
      "text/plain": [
       "\u001b[A\u001b[2K\r",
       " [████████████████████████████████████████████████████████████] 61/61 [29:54<00:14, 29.41s/it]"
      ]
     },
     "metadata": {},
     "output_type": "display_data"
    },
    {
     "name": "stdout",
     "output_type": "stream",
     "text": [
      "Done.\n",
      "Computing dSTRFs for stimulus 02/18... "
     ]
    },
    {
     "data": {
      "text/html": [
       "<div><span class=\"Text-label\" style=\"display:inline-block; overflow:hidden; white-space:nowrap; text-overflow:ellipsis; min-width:0; max-width:15ex; vertical-align:middle; text-align:right\"></span>\n",
       "<progress style=\"width:60ex\" max=\"51\" value=\"51\" class=\"Progress-main\"/></progress>\n",
       "<span class=\"Progress-label\"><strong>100%</strong></span>\n",
       "<span class=\"Iteration-label\">51/51</span>\n",
       "<span class=\"Time-label\">[24:52<00:16, 29.25s/it]</span></div>"
      ],
      "text/plain": [
       "\u001b[A\u001b[2K\r",
       " [████████████████████████████████████████████████████████████] 51/51 [24:52<00:16, 29.25s/it]"
      ]
     },
     "metadata": {},
     "output_type": "display_data"
    },
    {
     "name": "stdout",
     "output_type": "stream",
     "text": [
      "Done.\n",
      "Computing dSTRFs for stimulus 03/18... "
     ]
    },
    {
     "data": {
      "text/html": [
       "<div><span class=\"Text-label\" style=\"display:inline-block; overflow:hidden; white-space:nowrap; text-overflow:ellipsis; min-width:0; max-width:15ex; vertical-align:middle; text-align:right\"></span>\n",
       "<progress style=\"width:60ex\" max=\"63\" value=\"63\" class=\"Progress-main\"/></progress>\n",
       "<span class=\"Progress-label\"><strong>100%</strong></span>\n",
       "<span class=\"Iteration-label\">63/63</span>\n",
       "<span class=\"Time-label\">[30:58<00:23, 29.50s/it]</span></div>"
      ],
      "text/plain": [
       "\u001b[A\u001b[2K\r",
       " [████████████████████████████████████████████████████████████] 63/63 [30:58<00:23, 29.50s/it]"
      ]
     },
     "metadata": {},
     "output_type": "display_data"
    },
    {
     "name": "stdout",
     "output_type": "stream",
     "text": [
      "Done.\n",
      "Computing dSTRFs for stimulus 04/18... "
     ]
    },
    {
     "data": {
      "text/html": [
       "<div><span class=\"Text-label\" style=\"display:inline-block; overflow:hidden; white-space:nowrap; text-overflow:ellipsis; min-width:0; max-width:15ex; vertical-align:middle; text-align:right\"></span>\n",
       "<progress style=\"width:60ex\" max=\"61\" value=\"61\" class=\"Progress-main\"/></progress>\n",
       "<span class=\"Progress-label\"><strong>100%</strong></span>\n",
       "<span class=\"Iteration-label\">61/61</span>\n",
       "<span class=\"Time-label\">[30:11<00:17, 29.68s/it]</span></div>"
      ],
      "text/plain": [
       "\u001b[A\u001b[2K\r",
       " [████████████████████████████████████████████████████████████] 61/61 [30:11<00:17, 29.68s/it]"
      ]
     },
     "metadata": {},
     "output_type": "display_data"
    },
    {
     "name": "stdout",
     "output_type": "stream",
     "text": [
      "Done.\n",
      "Computing dSTRFs for stimulus 05/18... "
     ]
    },
    {
     "data": {
      "text/html": [
       "<div><span class=\"Text-label\" style=\"display:inline-block; overflow:hidden; white-space:nowrap; text-overflow:ellipsis; min-width:0; max-width:15ex; vertical-align:middle; text-align:right\"></span>\n",
       "<progress style=\"width:60ex\" max=\"65\" value=\"65\" class=\"Progress-main\"/></progress>\n",
       "<span class=\"Progress-label\"><strong>100%</strong></span>\n",
       "<span class=\"Iteration-label\">65/65</span>\n",
       "<span class=\"Time-label\">[31:29<00:03, 29.06s/it]</span></div>"
      ],
      "text/plain": [
       "\u001b[A\u001b[2K\r",
       " [████████████████████████████████████████████████████████████] 65/65 [31:29<00:03, 29.06s/it]"
      ]
     },
     "metadata": {},
     "output_type": "display_data"
    },
    {
     "name": "stdout",
     "output_type": "stream",
     "text": [
      "Done.\n",
      "Computing dSTRFs for stimulus 06/18... "
     ]
    },
    {
     "data": {
      "text/html": [
       "<div><span class=\"Text-label\" style=\"display:inline-block; overflow:hidden; white-space:nowrap; text-overflow:ellipsis; min-width:0; max-width:15ex; vertical-align:middle; text-align:right\"></span>\n",
       "<progress style=\"width:60ex\" max=\"71\" value=\"71\" class=\"Progress-main\"/></progress>\n",
       "<span class=\"Progress-label\"><strong>100%</strong></span>\n",
       "<span class=\"Iteration-label\">71/71</span>\n",
       "<span class=\"Time-label\">[34:38<00:13, 29.27s/it]</span></div>"
      ],
      "text/plain": [
       "\u001b[A\u001b[2K\r",
       " [████████████████████████████████████████████████████████████] 71/71 [34:38<00:13, 29.27s/it]"
      ]
     },
     "metadata": {},
     "output_type": "display_data"
    },
    {
     "name": "stdout",
     "output_type": "stream",
     "text": [
      "Done.\n",
      "Computing dSTRFs for stimulus 07/18... "
     ]
    },
    {
     "data": {
      "text/html": [
       "<div><span class=\"Text-label\" style=\"display:inline-block; overflow:hidden; white-space:nowrap; text-overflow:ellipsis; min-width:0; max-width:15ex; vertical-align:middle; text-align:right\"></span>\n",
       "<progress style=\"width:60ex\" max=\"84\" value=\"84\" class=\"Progress-main\"/></progress>\n",
       "<span class=\"Progress-label\"><strong>100%</strong></span>\n",
       "<span class=\"Iteration-label\">84/84</span>\n",
       "<span class=\"Time-label\">[41:13<00:26, 29.44s/it]</span></div>"
      ],
      "text/plain": [
       "\u001b[A\u001b[2K\r",
       " [████████████████████████████████████████████████████████████] 84/84 [41:13<00:26, 29.44s/it]"
      ]
     },
     "metadata": {},
     "output_type": "display_data"
    },
    {
     "name": "stdout",
     "output_type": "stream",
     "text": [
      "Done.\n",
      "Computing dSTRFs for stimulus 08/18... "
     ]
    },
    {
     "data": {
      "text/html": [
       "<div><span class=\"Text-label\" style=\"display:inline-block; overflow:hidden; white-space:nowrap; text-overflow:ellipsis; min-width:0; max-width:15ex; vertical-align:middle; text-align:right\"></span>\n",
       "<progress style=\"width:60ex\" max=\"65\" value=\"65\" class=\"Progress-main\"/></progress>\n",
       "<span class=\"Progress-label\"><strong>100%</strong></span>\n",
       "<span class=\"Iteration-label\">65/65</span>\n",
       "<span class=\"Time-label\">[31:33<00:11, 29.12s/it]</span></div>"
      ],
      "text/plain": [
       "\u001b[A\u001b[2K\r",
       " [████████████████████████████████████████████████████████████] 65/65 [31:33<00:11, 29.12s/it]"
      ]
     },
     "metadata": {},
     "output_type": "display_data"
    },
    {
     "name": "stdout",
     "output_type": "stream",
     "text": [
      "Done.\n",
      "Computing dSTRFs for stimulus 09/18... "
     ]
    },
    {
     "data": {
      "text/html": [
       "<div><span class=\"Text-label\" style=\"display:inline-block; overflow:hidden; white-space:nowrap; text-overflow:ellipsis; min-width:0; max-width:15ex; vertical-align:middle; text-align:right\"></span>\n",
       "<progress style=\"width:60ex\" max=\"58\" value=\"30\" class=\"Progress-main\"/></progress>\n",
       "<span class=\"Progress-label\"><strong>52%</strong></span>\n",
       "<span class=\"Iteration-label\">30/58</span>\n",
       "<span class=\"Time-label\">[14:44<00:30, 29.47s/it]</span></div>"
      ],
      "text/plain": [
       "\u001b[A\u001b[2K\r",
       " [███████████████████████████████#############################] 30/58 [14:44<00:30, 29.47s/it]"
      ]
     },
     "metadata": {},
     "output_type": "display_data"
    }
   ],
   "source": [
    "def builder():\n",
    "    return dynamic_strf.modeling.SharedEncoder(\n",
    "        input_size=freqbins,\n",
    "        hidden_size=128,\n",
    "        channels=channels\n",
    "    ).to(device)\n",
    "\n",
    "dynamic_strf.modeling.fit_multiple(\n",
    "    builder=builder,\n",
    "    data=(x_noisy, y_noisy),\n",
    "    crossval=True,\n",
    "    jackknife=False,\n",
    "    save_dir='5x128-cv',\n",
    "    batch_size=64,\n",
    "    num_workers=4,\n",
    "    gpus=1,\n",
    "    precision=16,\n",
    "    verbose=1\n",
    ")\n",
    "\n",
    "model = builder()\n",
    "\n",
    "dynamic_strf.estimate.dSTRF_multiple(\n",
    "    model=model,\n",
    "    checkpoints='5x128-cv',\n",
    "    data=x_noisy,\n",
    "    crossval=True,\n",
    "    jackknife=False,\n",
    "    save_dir='5x128-cv-dstrf',\n",
    "    chunk_size=100,\n",
    "    verbose=1\n",
    ")\n",
    "\n",
    "scores = dynamic_strf.modeling.test_multiple(\n",
    "    modle=builder(),\n",
    "    checkpoints='5x128-cv',\n",
    "    data=(x_noisy, y_noisy),\n",
    "    crossval=True,\n",
    "    jackknife=False,\n",
    "    verbose=1\n",
    ")\n",
    "\n",
    "nonlin = dynamic_strf.estimate.nonlinearities(\n",
    "    paths='5x128-cv-dstrf',\n",
    "    reduction='mean',\n",
    "    verbose=0\n",
    ")"
   ]
  }
 ],
 "metadata": {
  "kernelspec": {
   "display_name": "Python [conda env:.conda-torch_cuda11]",
   "language": "python",
   "name": "conda-env-.conda-torch_cuda11-py"
  },
  "language_info": {
   "codemirror_mode": {
    "name": "ipython",
    "version": 3
   },
   "file_extension": ".py",
   "mimetype": "text/x-python",
   "name": "python",
   "nbconvert_exporter": "python",
   "pygments_lexer": "ipython3",
   "version": "3.9.6"
  }
 },
 "nbformat": 4,
 "nbformat_minor": 2
}
